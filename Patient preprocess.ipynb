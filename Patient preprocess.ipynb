{
 "cells": [
  {
   "cell_type": "code",
   "execution_count": 1,
   "outputs": [],
   "source": [
    "import pandas as pd\n",
    "import numpy as np"
   ],
   "metadata": {
    "collapsed": false,
    "pycharm": {
     "name": "#%%\n"
    }
   }
  },
  {
   "cell_type": "code",
   "execution_count": 2,
   "outputs": [],
   "source": [
    "patient = pd.read_csv(\"Patient.csv\")"
   ],
   "metadata": {
    "collapsed": false,
    "pycharm": {
     "name": "#%%\n"
    }
   }
  },
  {
   "cell_type": "code",
   "execution_count": 3,
   "outputs": [
    {
     "data": {
      "text/plain": "   _id  Row_ID Accurate_Episode_Date   Case_Reported_Date  \\\n0    1       1   2020-06-01T00:00:00  2020-06-03T00:00:00   \n1    2       2   2020-05-30T00:00:00  2020-06-02T00:00:00   \n2    3       3   2020-04-15T00:00:00  2020-04-17T00:00:00   \n3    4       4   2020-04-18T00:00:00  2020-04-21T00:00:00   \n4    5       5   2020-05-13T00:00:00  2020-05-22T00:00:00   \n\n    Test_Reported_Date        Specimen_Date Age_Group Client_Gender  \\\n0  2020-06-03T00:00:00  2020-06-02T00:00:00       30s          MALE   \n1  2020-06-02T00:00:00  2020-05-30T00:00:00       20s          MALE   \n2  2020-04-17T00:00:00  2020-04-16T00:00:00       80s        FEMALE   \n3  2020-04-21T00:00:00  2020-04-18T00:00:00       20s          MALE   \n4  2020-05-22T00:00:00  2020-05-21T00:00:00       50s        FEMALE   \n\n  Case_AcquisitionInfo  Outcome1 Outbreak_Related  Reporting_PHU_ID  \\\n0                   CC  Resolved              NaN              2253   \n1                   CC  Resolved              NaN              2253   \n2                   OB  Resolved              Yes              2253   \n3                   OB  Resolved              Yes              2253   \n4                   CC  Resolved              NaN              2236   \n\n                     Reporting_PHU   Reporting_PHU_Address Reporting_PHU_City  \\\n0               Peel Public Health  7120 Hurontario Street        Mississauga   \n1               Peel Public Health  7120 Hurontario Street        Mississauga   \n2               Peel Public Health  7120 Hurontario Street        Mississauga   \n3               Peel Public Health  7120 Hurontario Street        Mississauga   \n4  Halton Region Health Department        1151 Bronte Road           Oakville   \n\n  Reporting_PHU_Postal_Code                        Reporting_PHU_Website  \\\n0                   L5W 1N4                    www.peelregion.ca/health/   \n1                   L5W 1N4                    www.peelregion.ca/health/   \n2                   L5W 1N4                    www.peelregion.ca/health/   \n3                   L5W 1N4                    www.peelregion.ca/health/   \n4                   L6M 3Ll  www.halton.ca/For-Residents/Public-Health/    \n\n   Reporting_PHU_Latitude  Reporting_PHU_Longitude  \n0               43.647471               -79.708893  \n1               43.647471               -79.708893  \n2               43.647471               -79.708893  \n3               43.647471               -79.708893  \n4               43.413997               -79.744796  ",
      "text/html": "<div>\n<style scoped>\n    .dataframe tbody tr th:only-of-type {\n        vertical-align: middle;\n    }\n\n    .dataframe tbody tr th {\n        vertical-align: top;\n    }\n\n    .dataframe thead th {\n        text-align: right;\n    }\n</style>\n<table border=\"1\" class=\"dataframe\">\n  <thead>\n    <tr style=\"text-align: right;\">\n      <th></th>\n      <th>_id</th>\n      <th>Row_ID</th>\n      <th>Accurate_Episode_Date</th>\n      <th>Case_Reported_Date</th>\n      <th>Test_Reported_Date</th>\n      <th>Specimen_Date</th>\n      <th>Age_Group</th>\n      <th>Client_Gender</th>\n      <th>Case_AcquisitionInfo</th>\n      <th>Outcome1</th>\n      <th>Outbreak_Related</th>\n      <th>Reporting_PHU_ID</th>\n      <th>Reporting_PHU</th>\n      <th>Reporting_PHU_Address</th>\n      <th>Reporting_PHU_City</th>\n      <th>Reporting_PHU_Postal_Code</th>\n      <th>Reporting_PHU_Website</th>\n      <th>Reporting_PHU_Latitude</th>\n      <th>Reporting_PHU_Longitude</th>\n    </tr>\n  </thead>\n  <tbody>\n    <tr>\n      <th>0</th>\n      <td>1</td>\n      <td>1</td>\n      <td>2020-06-01T00:00:00</td>\n      <td>2020-06-03T00:00:00</td>\n      <td>2020-06-03T00:00:00</td>\n      <td>2020-06-02T00:00:00</td>\n      <td>30s</td>\n      <td>MALE</td>\n      <td>CC</td>\n      <td>Resolved</td>\n      <td>NaN</td>\n      <td>2253</td>\n      <td>Peel Public Health</td>\n      <td>7120 Hurontario Street</td>\n      <td>Mississauga</td>\n      <td>L5W 1N4</td>\n      <td>www.peelregion.ca/health/</td>\n      <td>43.647471</td>\n      <td>-79.708893</td>\n    </tr>\n    <tr>\n      <th>1</th>\n      <td>2</td>\n      <td>2</td>\n      <td>2020-05-30T00:00:00</td>\n      <td>2020-06-02T00:00:00</td>\n      <td>2020-06-02T00:00:00</td>\n      <td>2020-05-30T00:00:00</td>\n      <td>20s</td>\n      <td>MALE</td>\n      <td>CC</td>\n      <td>Resolved</td>\n      <td>NaN</td>\n      <td>2253</td>\n      <td>Peel Public Health</td>\n      <td>7120 Hurontario Street</td>\n      <td>Mississauga</td>\n      <td>L5W 1N4</td>\n      <td>www.peelregion.ca/health/</td>\n      <td>43.647471</td>\n      <td>-79.708893</td>\n    </tr>\n    <tr>\n      <th>2</th>\n      <td>3</td>\n      <td>3</td>\n      <td>2020-04-15T00:00:00</td>\n      <td>2020-04-17T00:00:00</td>\n      <td>2020-04-17T00:00:00</td>\n      <td>2020-04-16T00:00:00</td>\n      <td>80s</td>\n      <td>FEMALE</td>\n      <td>OB</td>\n      <td>Resolved</td>\n      <td>Yes</td>\n      <td>2253</td>\n      <td>Peel Public Health</td>\n      <td>7120 Hurontario Street</td>\n      <td>Mississauga</td>\n      <td>L5W 1N4</td>\n      <td>www.peelregion.ca/health/</td>\n      <td>43.647471</td>\n      <td>-79.708893</td>\n    </tr>\n    <tr>\n      <th>3</th>\n      <td>4</td>\n      <td>4</td>\n      <td>2020-04-18T00:00:00</td>\n      <td>2020-04-21T00:00:00</td>\n      <td>2020-04-21T00:00:00</td>\n      <td>2020-04-18T00:00:00</td>\n      <td>20s</td>\n      <td>MALE</td>\n      <td>OB</td>\n      <td>Resolved</td>\n      <td>Yes</td>\n      <td>2253</td>\n      <td>Peel Public Health</td>\n      <td>7120 Hurontario Street</td>\n      <td>Mississauga</td>\n      <td>L5W 1N4</td>\n      <td>www.peelregion.ca/health/</td>\n      <td>43.647471</td>\n      <td>-79.708893</td>\n    </tr>\n    <tr>\n      <th>4</th>\n      <td>5</td>\n      <td>5</td>\n      <td>2020-05-13T00:00:00</td>\n      <td>2020-05-22T00:00:00</td>\n      <td>2020-05-22T00:00:00</td>\n      <td>2020-05-21T00:00:00</td>\n      <td>50s</td>\n      <td>FEMALE</td>\n      <td>CC</td>\n      <td>Resolved</td>\n      <td>NaN</td>\n      <td>2236</td>\n      <td>Halton Region Health Department</td>\n      <td>1151 Bronte Road</td>\n      <td>Oakville</td>\n      <td>L6M 3Ll</td>\n      <td>www.halton.ca/For-Residents/Public-Health/</td>\n      <td>43.413997</td>\n      <td>-79.744796</td>\n    </tr>\n  </tbody>\n</table>\n</div>"
     },
     "execution_count": 3,
     "metadata": {},
     "output_type": "execute_result"
    }
   ],
   "source": [
    "patient.head()"
   ],
   "metadata": {
    "collapsed": false,
    "pycharm": {
     "name": "#%%\n"
    }
   }
  },
  {
   "cell_type": "code",
   "execution_count": 4,
   "outputs": [],
   "source": [
    "patient_dimension=pd.DataFrame(columns=['patient_id','gender', 'age_group', 'acquisition_group', 'outbreak_related'])"
   ],
   "metadata": {
    "collapsed": false,
    "pycharm": {
     "name": "#%%\n"
    }
   }
  },
  {
   "cell_type": "code",
   "execution_count": 5,
   "outputs": [],
   "source": [
    "patient = patient[(patient[\"Case_Reported_Date\"] >= (\"2020-09-01T00:00:00\")) & ((patient[\"Reporting_PHU_City\"]==(\"Ottawa\"))| (patient[\"Reporting_PHU_City\"]==(\"Ajax\"))| (patient[\"Reporting_PHU_City\"]==(\"Clarington\"))| (patient[\"Reporting_PHU_City\"]==(\"Brock\"))| (patient[\"Reporting_PHU_City\"]==(\"Oshawa\"))| (patient[\"Reporting_PHU_City\"]==(\"Pickering\"))| (patient[\"Reporting_PHU_City\"]==(\"Scugog\"))| (patient[\"Reporting_PHU_City\"]==(\"Uxbridge\"))| (patient[\"Reporting_PHU_City\"]==(\"Whitby\"))| (patient[\"Reporting_PHU_City\"]==(\"Burlington\"))| (patient[\"Reporting_PHU_City\"]==(\"Halton Hills\"))|(patient[\"Reporting_PHU_City\"]==(\"Milton\"))| (patient[\"Reporting_PHU_City\"]==(\"Oakville\"))| (patient[\"Reporting_PHU_City\"]==(\"Brampton\"))| (patient[\"Reporting_PHU_City\"]==(\"Caledon\"))| (patient[\"Reporting_PHU_City\"]==(\"Mississauga\"))| (patient[\"Reporting_PHU_City\"]==(\"Aurora\"))| (patient[\"Reporting_PHU_City\"]==(\"East Gwillimbury\"))|(patient[\"Reporting_PHU_City\"]==(\"Georgina\"))| (patient[\"Reporting_PHU_City\"]==(\"King\"))| (patient[\"Reporting_PHU_City\"]==(\"Markham\"))| (patient[\"Reporting_PHU_City\"]==(\"Newmarket\"))| (patient[\"Reporting_PHU_City\"]==(\"Richmond Hill\"))| (patient[\"Reporting_PHU_City\"]==(\"Vaughan\"))|(patient[\"Reporting_PHU_City\"]==(\"Whitchurch-Stouffville\"))| (patient[\"Reporting_PHU_City\"]==(\"Mono\"))| (patient[\"Reporting_PHU_City\"]==(\"Orangeville\"))| (patient[\"Reporting_PHU_City\"]==(\"Bradford West Gwillimbury\"))| (patient[\"Reporting_PHU_City\"]==(\"New Tecumseth\")))]"
   ],
   "metadata": {
    "collapsed": false,
    "pycharm": {
     "name": "#%%\n"
    }
   }
  },
  {
   "cell_type": "code",
   "execution_count": 6,
   "outputs": [],
   "source": [
    "for idx, row in patient.iterrows():\n",
    "    patient_row=[idx]\n",
    "    patient_row.append(row[\"Client_Gender\"])\n",
    "    patient_row.append(row[\"Age_Group\"])\n",
    "    patient_row.append(row[\"Case_AcquisitionInfo\"])\n",
    "    patient_row.append(row[\"Outbreak_Related\"])\n",
    "    patient_dimension.loc[len(patient_dimension)]=patient_row"
   ],
   "metadata": {
    "collapsed": false,
    "pycharm": {
     "name": "#%%\n"
    }
   }
  },
  {
   "cell_type": "code",
   "execution_count": 12,
   "outputs": [
    {
     "data": {
      "text/plain": "   patient_surrogate_key patient_id  gender age_group  acquisition_group  \\\n0                      0        418  FEMALE       80s                 CC   \n1                      1        419  FEMALE       <20                 CC   \n2                      2        421    MALE       20s  NO KNOWN EPI LINK   \n3                      3        422  FEMALE       30s                 CC   \n4                      4        424  FEMALE       30s                 CC   \n\n  outbreak_related  \n0              NaN  \n1              NaN  \n2              NaN  \n3              NaN  \n4              NaN  ",
      "text/html": "<div>\n<style scoped>\n    .dataframe tbody tr th:only-of-type {\n        vertical-align: middle;\n    }\n\n    .dataframe tbody tr th {\n        vertical-align: top;\n    }\n\n    .dataframe thead th {\n        text-align: right;\n    }\n</style>\n<table border=\"1\" class=\"dataframe\">\n  <thead>\n    <tr style=\"text-align: right;\">\n      <th></th>\n      <th>patient_surrogate_key</th>\n      <th>patient_id</th>\n      <th>gender</th>\n      <th>age_group</th>\n      <th>acquisition_group</th>\n      <th>outbreak_related</th>\n    </tr>\n  </thead>\n  <tbody>\n    <tr>\n      <th>0</th>\n      <td>0</td>\n      <td>418</td>\n      <td>FEMALE</td>\n      <td>80s</td>\n      <td>CC</td>\n      <td>NaN</td>\n    </tr>\n    <tr>\n      <th>1</th>\n      <td>1</td>\n      <td>419</td>\n      <td>FEMALE</td>\n      <td>&lt;20</td>\n      <td>CC</td>\n      <td>NaN</td>\n    </tr>\n    <tr>\n      <th>2</th>\n      <td>2</td>\n      <td>421</td>\n      <td>MALE</td>\n      <td>20s</td>\n      <td>NO KNOWN EPI LINK</td>\n      <td>NaN</td>\n    </tr>\n    <tr>\n      <th>3</th>\n      <td>3</td>\n      <td>422</td>\n      <td>FEMALE</td>\n      <td>30s</td>\n      <td>CC</td>\n      <td>NaN</td>\n    </tr>\n    <tr>\n      <th>4</th>\n      <td>4</td>\n      <td>424</td>\n      <td>FEMALE</td>\n      <td>30s</td>\n      <td>CC</td>\n      <td>NaN</td>\n    </tr>\n  </tbody>\n</table>\n</div>"
     },
     "execution_count": 12,
     "metadata": {},
     "output_type": "execute_result"
    }
   ],
   "source": [
    "patient_dimension.head()"
   ],
   "metadata": {
    "collapsed": false,
    "pycharm": {
     "name": "#%%\n"
    }
   }
  },
  {
   "cell_type": "code",
   "execution_count": 11,
   "outputs": [],
   "source": [
    "patient_dimension.insert(0, \"patient_surrogate_key\",  np.arange(len(patient_dimension)))"
   ],
   "metadata": {
    "collapsed": false,
    "pycharm": {
     "name": "#%%\n"
    }
   }
  },
  {
   "cell_type": "code",
   "execution_count": 14,
   "outputs": [],
   "source": [
    "patient_dimension.to_csv(\"patient_dimension.csv\",index=False)"
   ],
   "metadata": {
    "collapsed": false,
    "pycharm": {
     "name": "#%%\n"
    }
   }
  },
  {
   "cell_type": "code",
   "execution_count": 20,
   "outputs": [],
   "source": [
    "pad=pd.read_csv(\"patient_dimension.csv\")"
   ],
   "metadata": {
    "collapsed": false,
    "pycharm": {
     "name": "#%%\n"
    }
   }
  },
  {
   "cell_type": "code",
   "execution_count": 21,
   "outputs": [],
   "source": [
    "for index in pad.index:\n",
    "    if pad.loc[index,'acquisition_group']=='NO INFO-UNKNOWN':\n",
    "        pad.loc[index,'acquisition_group'] = 'NO KNOWN EPI LINK'\n",
    "    elif pad.loc[index,'acquisition_group']=='NO INFO-MISSING':\n",
    "        pad.loc[index,'acquisition_group'] = 'MISSING INFORMATION'\n",
    "    elif pad.loc[index,'acquisition_group']=='NO EPI-LINK':\n",
    "        pad.loc[index,'acquisition_group'] = 'UNSPECIFIED EPI LINK'"
   ],
   "metadata": {
    "collapsed": false,
    "pycharm": {
     "name": "#%%\n"
    }
   }
  },
  {
   "cell_type": "code",
   "execution_count": 1,
   "outputs": [
    {
     "ename": "NameError",
     "evalue": "name 'pad' is not defined",
     "output_type": "error",
     "traceback": [
      "\u001B[0;31m---------------------------------------------------------------------------\u001B[0m",
      "\u001B[0;31mNameError\u001B[0m                                 Traceback (most recent call last)",
      "\u001B[0;32m<ipython-input-1-4a734a7c1c13>\u001B[0m in \u001B[0;36m<module>\u001B[0;34m\u001B[0m\n\u001B[0;32m----> 1\u001B[0;31m \u001B[0mpad\u001B[0m\u001B[0;34m.\u001B[0m\u001B[0mhead\u001B[0m\u001B[0;34m(\u001B[0m\u001B[0;34m)\u001B[0m\u001B[0;34m\u001B[0m\u001B[0;34m\u001B[0m\u001B[0m\n\u001B[0m",
      "\u001B[0;31mNameError\u001B[0m: name 'pad' is not defined"
     ]
    }
   ],
   "source": [
    "pad.head()"
   ],
   "metadata": {
    "collapsed": false,
    "pycharm": {
     "name": "#%%\n"
    }
   }
  },
  {
   "cell_type": "code",
   "execution_count": 23,
   "outputs": [],
   "source": [
    "patient_dimension.to_csv(\"patient_dimension.csv\",index=False)"
   ],
   "metadata": {
    "collapsed": false,
    "pycharm": {
     "name": "#%%\n"
    }
   }
  }
 ],
 "metadata": {
  "kernelspec": {
   "display_name": "Python 3",
   "language": "python",
   "name": "python3"
  },
  "language_info": {
   "codemirror_mode": {
    "name": "ipython",
    "version": 3
   },
   "file_extension": ".py",
   "mimetype": "text/x-python",
   "name": "python",
   "nbconvert_exporter": "python",
   "pygments_lexer": "ipython3",
   "version": "3.9.2"
  },
  "pycharm": {
   "stem_cell": {
    "cell_type": "raw",
    "source": [
     "import pandas as pd\n",
     "import numpy as np\n",
     "\n"
    ],
    "metadata": {
     "collapsed": false
    }
   }
  }
 },
 "nbformat": 4,
 "nbformat_minor": 5
}