{
 "cells": [
  {
   "cell_type": "code",
   "execution_count": 9,
   "metadata": {},
   "outputs": [],
   "source": [
    "import pandas as pd\n",
    "import numpy as np\n",
    "\n",
    "from datetime import datetime, timedelta"
   ]
  },
  {
   "cell_type": "code",
   "execution_count": 2,
   "metadata": {
    "pycharm": {
     "name": "#%%\n"
    }
   },
   "outputs": [],
   "source": [
    "date=pd.read_excel(\"DimDates.xlsx\")"
   ]
  },
  {
   "cell_type": "code",
   "execution_count": 3,
   "metadata": {
    "pycharm": {
     "name": "#%%\n"
    }
   },
   "outputs": [
    {
     "data": {
      "text/html": [
       "<div>\n",
       "<style scoped>\n",
       "    .dataframe tbody tr th:only-of-type {\n",
       "        vertical-align: middle;\n",
       "    }\n",
       "\n",
       "    .dataframe tbody tr th {\n",
       "        vertical-align: top;\n",
       "    }\n",
       "\n",
       "    .dataframe thead th {\n",
       "        text-align: right;\n",
       "    }\n",
       "</style>\n",
       "<table border=\"1\" class=\"dataframe\">\n",
       "  <thead>\n",
       "    <tr style=\"text-align: right;\">\n",
       "      <th></th>\n",
       "      <th>DateNum</th>\n",
       "      <th>Date</th>\n",
       "      <th>YearMonthNum</th>\n",
       "      <th>Calendar_Quarter</th>\n",
       "      <th>MonthNum</th>\n",
       "      <th>MonthName</th>\n",
       "      <th>MonthShortName</th>\n",
       "      <th>WeekNum</th>\n",
       "      <th>DayNumOfYear</th>\n",
       "      <th>DayNumOfMonth</th>\n",
       "      <th>DayNumOfWeek</th>\n",
       "      <th>DayName</th>\n",
       "      <th>DayShortName</th>\n",
       "      <th>Quarter</th>\n",
       "      <th>YearQuarterNum</th>\n",
       "      <th>DayNumOfQuarter</th>\n",
       "    </tr>\n",
       "  </thead>\n",
       "  <tbody>\n",
       "    <tr>\n",
       "      <th>0</th>\n",
       "      <td>19910101</td>\n",
       "      <td>1991-01-01</td>\n",
       "      <td>199101</td>\n",
       "      <td>Qtr 1</td>\n",
       "      <td>1</td>\n",
       "      <td>January</td>\n",
       "      <td>Jan</td>\n",
       "      <td>1</td>\n",
       "      <td>1</td>\n",
       "      <td>1</td>\n",
       "      <td>3</td>\n",
       "      <td>Tuesday</td>\n",
       "      <td>Tue</td>\n",
       "      <td>1</td>\n",
       "      <td>19911</td>\n",
       "      <td>1</td>\n",
       "    </tr>\n",
       "    <tr>\n",
       "      <th>1</th>\n",
       "      <td>19910102</td>\n",
       "      <td>1991-01-02</td>\n",
       "      <td>199101</td>\n",
       "      <td>Qtr 1</td>\n",
       "      <td>1</td>\n",
       "      <td>January</td>\n",
       "      <td>Jan</td>\n",
       "      <td>1</td>\n",
       "      <td>2</td>\n",
       "      <td>2</td>\n",
       "      <td>4</td>\n",
       "      <td>Wednesday</td>\n",
       "      <td>Wed</td>\n",
       "      <td>1</td>\n",
       "      <td>19911</td>\n",
       "      <td>2</td>\n",
       "    </tr>\n",
       "    <tr>\n",
       "      <th>2</th>\n",
       "      <td>19910103</td>\n",
       "      <td>1991-01-03</td>\n",
       "      <td>199101</td>\n",
       "      <td>Qtr 1</td>\n",
       "      <td>1</td>\n",
       "      <td>January</td>\n",
       "      <td>Jan</td>\n",
       "      <td>1</td>\n",
       "      <td>3</td>\n",
       "      <td>3</td>\n",
       "      <td>5</td>\n",
       "      <td>Thursday</td>\n",
       "      <td>Thu</td>\n",
       "      <td>1</td>\n",
       "      <td>19911</td>\n",
       "      <td>3</td>\n",
       "    </tr>\n",
       "    <tr>\n",
       "      <th>3</th>\n",
       "      <td>19910104</td>\n",
       "      <td>1991-01-04</td>\n",
       "      <td>199101</td>\n",
       "      <td>Qtr 1</td>\n",
       "      <td>1</td>\n",
       "      <td>January</td>\n",
       "      <td>Jan</td>\n",
       "      <td>1</td>\n",
       "      <td>4</td>\n",
       "      <td>4</td>\n",
       "      <td>6</td>\n",
       "      <td>Friday</td>\n",
       "      <td>Fri</td>\n",
       "      <td>1</td>\n",
       "      <td>19911</td>\n",
       "      <td>4</td>\n",
       "    </tr>\n",
       "    <tr>\n",
       "      <th>4</th>\n",
       "      <td>19910105</td>\n",
       "      <td>1991-01-05</td>\n",
       "      <td>199101</td>\n",
       "      <td>Qtr 1</td>\n",
       "      <td>1</td>\n",
       "      <td>January</td>\n",
       "      <td>Jan</td>\n",
       "      <td>1</td>\n",
       "      <td>5</td>\n",
       "      <td>5</td>\n",
       "      <td>7</td>\n",
       "      <td>Saturday</td>\n",
       "      <td>Sat</td>\n",
       "      <td>1</td>\n",
       "      <td>19911</td>\n",
       "      <td>5</td>\n",
       "    </tr>\n",
       "  </tbody>\n",
       "</table>\n",
       "</div>"
      ],
      "text/plain": [
       "    DateNum       Date  YearMonthNum Calendar_Quarter  MonthNum MonthName  \\\n",
       "0  19910101 1991-01-01        199101            Qtr 1         1   January   \n",
       "1  19910102 1991-01-02        199101            Qtr 1         1   January   \n",
       "2  19910103 1991-01-03        199101            Qtr 1         1   January   \n",
       "3  19910104 1991-01-04        199101            Qtr 1         1   January   \n",
       "4  19910105 1991-01-05        199101            Qtr 1         1   January   \n",
       "\n",
       "  MonthShortName  WeekNum  DayNumOfYear  DayNumOfMonth  DayNumOfWeek  \\\n",
       "0            Jan        1             1              1             3   \n",
       "1            Jan        1             2              2             4   \n",
       "2            Jan        1             3              3             5   \n",
       "3            Jan        1             4              4             6   \n",
       "4            Jan        1             5              5             7   \n",
       "\n",
       "     DayName DayShortName  Quarter  YearQuarterNum  DayNumOfQuarter  \n",
       "0    Tuesday          Tue        1           19911                1  \n",
       "1  Wednesday          Wed        1           19911                2  \n",
       "2   Thursday          Thu        1           19911                3  \n",
       "3     Friday          Fri        1           19911                4  \n",
       "4   Saturday          Sat        1           19911                5  "
      ]
     },
     "execution_count": 3,
     "metadata": {},
     "output_type": "execute_result"
    }
   ],
   "source": [
    "date.head()"
   ]
  },
  {
   "cell_type": "code",
   "execution_count": 4,
   "metadata": {
    "pycharm": {
     "name": "#%%\n"
    }
   },
   "outputs": [],
   "source": [
    "date=date[(date[\"DateNum\"]>=20200901)&(date[\"DateNum\"]<=20201231)]"
   ]
  },
  {
   "cell_type": "code",
   "execution_count": 5,
   "metadata": {
    "pycharm": {
     "name": "#%%\n"
    }
   },
   "outputs": [],
   "source": [
    "onset_date_dimension=pd.DataFrame(columns=['date_id','date','day','month','day_of_week','week_in_year','weekend','holiday','season'])"
   ]
  },
  {
   "cell_type": "code",
   "execution_count": 6,
   "metadata": {
    "pycharm": {
     "name": "#%%\n"
    }
   },
   "outputs": [],
   "source": [
    "for idx, row in date.iterrows():\n",
    "    date_row=[idx]\n",
    "    date_row.append(row['Date'])\n",
    "    date_row.append(row['DayNumOfMonth'])\n",
    "    date_row.append(row['MonthNum'])\n",
    "    date_row.append(row['DayNumOfWeek'])\n",
    "    date_row.append(row['WeekNum'])\n",
    "    if (row['DayShortName']=='Sat')|(row['DayShortName']=='Sun'):\n",
    "        date_row+=['Yes']\n",
    "    else: date_row+=['No']\n",
    "    date_row+=['No']\n",
    "    date_row+=['winter']\n",
    "    onset_date_dimension.loc[len(onset_date_dimension)] = date_row"
   ]
  },
  {
   "cell_type": "code",
   "execution_count": 7,
   "metadata": {
    "pycharm": {
     "name": "#%%\n"
    }
   },
   "outputs": [
    {
     "data": {
      "text/html": [
       "<div>\n",
       "<style scoped>\n",
       "    .dataframe tbody tr th:only-of-type {\n",
       "        vertical-align: middle;\n",
       "    }\n",
       "\n",
       "    .dataframe tbody tr th {\n",
       "        vertical-align: top;\n",
       "    }\n",
       "\n",
       "    .dataframe thead th {\n",
       "        text-align: right;\n",
       "    }\n",
       "</style>\n",
       "<table border=\"1\" class=\"dataframe\">\n",
       "  <thead>\n",
       "    <tr style=\"text-align: right;\">\n",
       "      <th></th>\n",
       "      <th>date_id</th>\n",
       "      <th>date</th>\n",
       "      <th>day</th>\n",
       "      <th>month</th>\n",
       "      <th>day_of_week</th>\n",
       "      <th>week_in_year</th>\n",
       "      <th>weekend</th>\n",
       "      <th>holiday</th>\n",
       "      <th>season</th>\n",
       "    </tr>\n",
       "  </thead>\n",
       "  <tbody>\n",
       "    <tr>\n",
       "      <th>0</th>\n",
       "      <td>10836</td>\n",
       "      <td>2020-09-01</td>\n",
       "      <td>1</td>\n",
       "      <td>9</td>\n",
       "      <td>3</td>\n",
       "      <td>36</td>\n",
       "      <td>No</td>\n",
       "      <td>No</td>\n",
       "      <td>winter</td>\n",
       "    </tr>\n",
       "    <tr>\n",
       "      <th>1</th>\n",
       "      <td>10837</td>\n",
       "      <td>2020-09-02</td>\n",
       "      <td>2</td>\n",
       "      <td>9</td>\n",
       "      <td>4</td>\n",
       "      <td>36</td>\n",
       "      <td>No</td>\n",
       "      <td>No</td>\n",
       "      <td>winter</td>\n",
       "    </tr>\n",
       "    <tr>\n",
       "      <th>2</th>\n",
       "      <td>10838</td>\n",
       "      <td>2020-09-03</td>\n",
       "      <td>3</td>\n",
       "      <td>9</td>\n",
       "      <td>5</td>\n",
       "      <td>36</td>\n",
       "      <td>No</td>\n",
       "      <td>No</td>\n",
       "      <td>winter</td>\n",
       "    </tr>\n",
       "    <tr>\n",
       "      <th>3</th>\n",
       "      <td>10839</td>\n",
       "      <td>2020-09-04</td>\n",
       "      <td>4</td>\n",
       "      <td>9</td>\n",
       "      <td>6</td>\n",
       "      <td>36</td>\n",
       "      <td>No</td>\n",
       "      <td>No</td>\n",
       "      <td>winter</td>\n",
       "    </tr>\n",
       "    <tr>\n",
       "      <th>4</th>\n",
       "      <td>10840</td>\n",
       "      <td>2020-09-05</td>\n",
       "      <td>5</td>\n",
       "      <td>9</td>\n",
       "      <td>7</td>\n",
       "      <td>36</td>\n",
       "      <td>Yes</td>\n",
       "      <td>No</td>\n",
       "      <td>winter</td>\n",
       "    </tr>\n",
       "  </tbody>\n",
       "</table>\n",
       "</div>"
      ],
      "text/plain": [
       "  date_id       date day month day_of_week week_in_year weekend holiday  \\\n",
       "0   10836 2020-09-01   1     9           3           36      No      No   \n",
       "1   10837 2020-09-02   2     9           4           36      No      No   \n",
       "2   10838 2020-09-03   3     9           5           36      No      No   \n",
       "3   10839 2020-09-04   4     9           6           36      No      No   \n",
       "4   10840 2020-09-05   5     9           7           36     Yes      No   \n",
       "\n",
       "   season  \n",
       "0  winter  \n",
       "1  winter  \n",
       "2  winter  \n",
       "3  winter  \n",
       "4  winter  "
      ]
     },
     "execution_count": 7,
     "metadata": {},
     "output_type": "execute_result"
    }
   ],
   "source": [
    "onset_date_dimension.head()\n"
   ]
  },
  {
   "cell_type": "code",
   "execution_count": 8,
   "metadata": {
    "pycharm": {
     "name": "#%%\n"
    }
   },
   "outputs": [],
   "source": [
    "for index in onset_date_dimension.index:\n",
    "    if onset_date_dimension.loc[index,'date_id']==10842:\n",
    "        onset_date_dimension.loc[index,'holiday'] = 'Yes'\n",
    "    elif onset_date_dimension.loc[index,'date_id']==10877:\n",
    "        onset_date_dimension.loc[index,'holiday'] = 'Yes'\n",
    "    elif onset_date_dimension.loc[index,'date_id']==10896:\n",
    "        onset_date_dimension.loc[index,'holiday'] = 'Yes'\n",
    "    elif onset_date_dimension.loc[index,'date_id']==10907:\n",
    "        onset_date_dimension.loc[index,'holiday'] = 'Yes'\n",
    "    elif onset_date_dimension.loc[index,'date_id']==10951:\n",
    "        onset_date_dimension.loc[index,'holiday'] = 'Yes'\n",
    "    elif onset_date_dimension.loc[index,'date_id']==10952:\n",
    "        onset_date_dimension.loc[index,'holiday'] = 'Yes'"
   ]
  },
  {
   "cell_type": "code",
   "execution_count": 10,
   "metadata": {
    "pycharm": {
     "name": "#%%\n"
    }
   },
   "outputs": [],
   "source": [
    "onset_date_dimension.insert(0, \"surrogate_key\",  np.arange(len(onset_date_dimension)))"
   ]
  },
  {
   "cell_type": "code",
   "execution_count": 12,
   "metadata": {},
   "outputs": [],
   "source": [
    "onset_date_dimension[\"date\"] = pd.to_datetime(onset_date_dimension[\"date\"] ).dt.strftime('%Y-%m-%d')"
   ]
  },
  {
   "cell_type": "code",
   "execution_count": 13,
   "metadata": {
    "pycharm": {
     "name": "#%%\n"
    }
   },
   "outputs": [],
   "source": [
    "onset_date_dimension.to_csv(\"date_dimension.csv\",index=False)"
   ]
  },
  {
   "cell_type": "code",
   "execution_count": null,
   "metadata": {
    "pycharm": {
     "name": "#%%\n"
    }
   },
   "outputs": [],
   "source": []
  }
 ],
 "metadata": {
  "kernelspec": {
   "display_name": "Python 3",
   "language": "python",
   "name": "python3"
  },
  "language_info": {
   "codemirror_mode": {
    "name": "ipython",
    "version": 3
   },
   "file_extension": ".py",
   "mimetype": "text/x-python",
   "name": "python",
   "nbconvert_exporter": "python",
   "pygments_lexer": "ipython3",
   "version": "3.8.3"
  }
 },
 "nbformat": 4,
 "nbformat_minor": 1
}
