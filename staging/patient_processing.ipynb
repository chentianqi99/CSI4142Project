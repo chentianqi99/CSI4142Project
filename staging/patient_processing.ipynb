{
 "cells": [
  {
   "cell_type": "code",
   "execution_count": 1,
   "metadata": {},
   "outputs": [],
   "source": [
    "import pandas as pd\n",
    "import numpy as np\n",
    "\n",
    "from datetime import datetime, timedelta"
   ]
  },
  {
   "cell_type": "code",
   "execution_count": 2,
   "metadata": {},
   "outputs": [],
   "source": [
    "phu = pd.read_csv(\"patients.csv\")"
   ]
  },
  {
   "cell_type": "code",
   "execution_count": 3,
   "metadata": {},
   "outputs": [],
   "source": [
    "s_date = datetime.strptime('20200901', '%Y%m%d')\n",
    "e_date = datetime.strptime('20201231', '%Y%m%d')\n",
    "phu = phu[(pd.to_datetime(phu['Case_Reported_Date']) >= s_date) & (pd.to_datetime(phu['Case_Reported_Date']) <= e_date)]"
   ]
  },
  {
   "cell_type": "code",
   "execution_count": 4,
   "metadata": {},
   "outputs": [],
   "source": [
    "phu_filter = phu[phu['Reporting_PHU'].str.contains(\"Peel\") | phu['Reporting_PHU'].str.contains(\"York\") | phu['Reporting_PHU'].str.contains(\"Durham\") | phu['Reporting_PHU'].str.contains(\"Halton\") | phu['Reporting_PHU_City'].str.contains(\"Toronto\") | phu['Reporting_PHU_City'].str.contains(\"Ottawa\")]"
   ]
  },
  {
   "cell_type": "code",
   "execution_count": 6,
   "metadata": {},
   "outputs": [],
   "source": [
    "patient_dimension = phu_filter.filter(items=['Row_ID', 'Age_Group', 'Client_Gender', 'Case_AcquisitionInfo', 'Outbreak_Related'])"
   ]
  },
  {
   "cell_type": "code",
   "execution_count": 8,
   "metadata": {},
   "outputs": [],
   "source": [
    "patient_dimension.insert(0, \"surrogate_key\",  np.arange(len(patient_dimension)))"
   ]
  },
  {
   "cell_type": "code",
   "execution_count": 9,
   "metadata": {},
   "outputs": [
    {
     "data": {
      "text/html": [
       "<div>\n",
       "<style scoped>\n",
       "    .dataframe tbody tr th:only-of-type {\n",
       "        vertical-align: middle;\n",
       "    }\n",
       "\n",
       "    .dataframe tbody tr th {\n",
       "        vertical-align: top;\n",
       "    }\n",
       "\n",
       "    .dataframe thead th {\n",
       "        text-align: right;\n",
       "    }\n",
       "</style>\n",
       "<table border=\"1\" class=\"dataframe\">\n",
       "  <thead>\n",
       "    <tr style=\"text-align: right;\">\n",
       "      <th></th>\n",
       "      <th>surrogate_key</th>\n",
       "      <th>Row_ID</th>\n",
       "      <th>Age_Group</th>\n",
       "      <th>Client_Gender</th>\n",
       "      <th>Case_AcquisitionInfo</th>\n",
       "      <th>Outbreak_Related</th>\n",
       "    </tr>\n",
       "  </thead>\n",
       "  <tbody>\n",
       "    <tr>\n",
       "      <th>418</th>\n",
       "      <td>0</td>\n",
       "      <td>419</td>\n",
       "      <td>80s</td>\n",
       "      <td>FEMALE</td>\n",
       "      <td>CC</td>\n",
       "      <td>NaN</td>\n",
       "    </tr>\n",
       "    <tr>\n",
       "      <th>419</th>\n",
       "      <td>1</td>\n",
       "      <td>420</td>\n",
       "      <td>&lt;20</td>\n",
       "      <td>FEMALE</td>\n",
       "      <td>CC</td>\n",
       "      <td>NaN</td>\n",
       "    </tr>\n",
       "    <tr>\n",
       "      <th>421</th>\n",
       "      <td>2</td>\n",
       "      <td>422</td>\n",
       "      <td>20s</td>\n",
       "      <td>MALE</td>\n",
       "      <td>NO KNOWN EPI LINK</td>\n",
       "      <td>NaN</td>\n",
       "    </tr>\n",
       "    <tr>\n",
       "      <th>422</th>\n",
       "      <td>3</td>\n",
       "      <td>423</td>\n",
       "      <td>30s</td>\n",
       "      <td>FEMALE</td>\n",
       "      <td>CC</td>\n",
       "      <td>NaN</td>\n",
       "    </tr>\n",
       "    <tr>\n",
       "      <th>424</th>\n",
       "      <td>4</td>\n",
       "      <td>425</td>\n",
       "      <td>30s</td>\n",
       "      <td>FEMALE</td>\n",
       "      <td>CC</td>\n",
       "      <td>NaN</td>\n",
       "    </tr>\n",
       "    <tr>\n",
       "      <th>...</th>\n",
       "      <td>...</td>\n",
       "      <td>...</td>\n",
       "      <td>...</td>\n",
       "      <td>...</td>\n",
       "      <td>...</td>\n",
       "      <td>...</td>\n",
       "    </tr>\n",
       "    <tr>\n",
       "      <th>308800</th>\n",
       "      <td>110362</td>\n",
       "      <td>308801</td>\n",
       "      <td>20s</td>\n",
       "      <td>FEMALE</td>\n",
       "      <td>MISSING INFORMATION</td>\n",
       "      <td>NaN</td>\n",
       "    </tr>\n",
       "    <tr>\n",
       "      <th>308802</th>\n",
       "      <td>110363</td>\n",
       "      <td>308803</td>\n",
       "      <td>20s</td>\n",
       "      <td>MALE</td>\n",
       "      <td>CC</td>\n",
       "      <td>NaN</td>\n",
       "    </tr>\n",
       "    <tr>\n",
       "      <th>308806</th>\n",
       "      <td>110364</td>\n",
       "      <td>308807</td>\n",
       "      <td>40s</td>\n",
       "      <td>MALE</td>\n",
       "      <td>CC</td>\n",
       "      <td>NaN</td>\n",
       "    </tr>\n",
       "    <tr>\n",
       "      <th>308807</th>\n",
       "      <td>110365</td>\n",
       "      <td>308808</td>\n",
       "      <td>50s</td>\n",
       "      <td>FEMALE</td>\n",
       "      <td>NO KNOWN EPI LINK</td>\n",
       "      <td>NaN</td>\n",
       "    </tr>\n",
       "    <tr>\n",
       "      <th>308809</th>\n",
       "      <td>110366</td>\n",
       "      <td>308810</td>\n",
       "      <td>30s</td>\n",
       "      <td>FEMALE</td>\n",
       "      <td>CC</td>\n",
       "      <td>NaN</td>\n",
       "    </tr>\n",
       "  </tbody>\n",
       "</table>\n",
       "<p>110367 rows × 6 columns</p>\n",
       "</div>"
      ],
      "text/plain": [
       "        surrogate_key  Row_ID Age_Group Client_Gender Case_AcquisitionInfo  \\\n",
       "418                 0     419       80s        FEMALE                   CC   \n",
       "419                 1     420       <20        FEMALE                   CC   \n",
       "421                 2     422       20s          MALE    NO KNOWN EPI LINK   \n",
       "422                 3     423       30s        FEMALE                   CC   \n",
       "424                 4     425       30s        FEMALE                   CC   \n",
       "...               ...     ...       ...           ...                  ...   \n",
       "308800         110362  308801       20s        FEMALE  MISSING INFORMATION   \n",
       "308802         110363  308803       20s          MALE                   CC   \n",
       "308806         110364  308807       40s          MALE                   CC   \n",
       "308807         110365  308808       50s        FEMALE    NO KNOWN EPI LINK   \n",
       "308809         110366  308810       30s        FEMALE                   CC   \n",
       "\n",
       "       Outbreak_Related  \n",
       "418                 NaN  \n",
       "419                 NaN  \n",
       "421                 NaN  \n",
       "422                 NaN  \n",
       "424                 NaN  \n",
       "...                 ...  \n",
       "308800              NaN  \n",
       "308802              NaN  \n",
       "308806              NaN  \n",
       "308807              NaN  \n",
       "308809              NaN  \n",
       "\n",
       "[110367 rows x 6 columns]"
      ]
     },
     "execution_count": 9,
     "metadata": {},
     "output_type": "execute_result"
    }
   ],
   "source": [
    "patient_dimension"
   ]
  },
  {
   "cell_type": "code",
   "execution_count": 10,
   "metadata": {},
   "outputs": [],
   "source": [
    "patient_dimension.to_csv(\"patient_dimension.csv\",index=False)"
   ]
  },
  {
   "cell_type": "code",
   "execution_count": null,
   "metadata": {},
   "outputs": [],
   "source": []
  }
 ],
 "metadata": {
  "kernelspec": {
   "display_name": "Python 3",
   "language": "python",
   "name": "python3"
  },
  "language_info": {
   "codemirror_mode": {
    "name": "ipython",
    "version": 3
   },
   "file_extension": ".py",
   "mimetype": "text/x-python",
   "name": "python",
   "nbconvert_exporter": "python",
   "pygments_lexer": "ipython3",
   "version": "3.8.3"
  }
 },
 "nbformat": 4,
 "nbformat_minor": 4
}
